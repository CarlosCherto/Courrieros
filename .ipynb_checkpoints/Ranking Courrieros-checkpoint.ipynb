{
 "cells": [
  {
   "cell_type": "markdown",
   "metadata": {},
   "source": [
    "\n",
    "# Ranking Courrieros"
   ]
  },
  {
   "cell_type": "markdown",
   "metadata": {},
   "source": [
    "Importando a base de dados"
   ]
  },
  {
   "cell_type": "code",
   "execution_count": 97,
   "metadata": {},
   "outputs": [],
   "source": [
    "import pandas as pd\n",
    "import matplotlib.pyplot as plt\n",
    "import numpy as np"
   ]
  },
  {
   "cell_type": "code",
   "execution_count": 98,
   "metadata": {},
   "outputs": [
    {
     "data": {
      "text/html": [
       "<div>\n",
       "<style scoped>\n",
       "    .dataframe tbody tr th:only-of-type {\n",
       "        vertical-align: middle;\n",
       "    }\n",
       "\n",
       "    .dataframe tbody tr th {\n",
       "        vertical-align: top;\n",
       "    }\n",
       "\n",
       "    .dataframe thead th {\n",
       "        text-align: right;\n",
       "    }\n",
       "</style>\n",
       "<table border=\"1\" class=\"dataframe\">\n",
       "  <thead>\n",
       "    <tr style=\"text-align: right;\">\n",
       "      <th></th>\n",
       "      <th>Código Pedido</th>\n",
       "      <th>Número Externo</th>\n",
       "      <th>Data do evento</th>\n",
       "      <th>Status</th>\n",
       "      <th>Biker</th>\n",
       "      <th>Registrado por</th>\n",
       "    </tr>\n",
       "  </thead>\n",
       "  <tbody>\n",
       "    <tr>\n",
       "      <th>0</th>\n",
       "      <td>3018243482211537</td>\n",
       "      <td>P20180831T18</td>\n",
       "      <td>03/09/2018</td>\n",
       "      <td>Entregue</td>\n",
       "      <td>Petronio</td>\n",
       "      <td>petronio</td>\n",
       "    </tr>\n",
       "    <tr>\n",
       "      <th>1</th>\n",
       "      <td>4018243436281229</td>\n",
       "      <td>V516111MSD-01</td>\n",
       "      <td>31/08/2018</td>\n",
       "      <td>Entregue</td>\n",
       "      <td>Leonardo José de Oliveira</td>\n",
       "      <td>leonardoj</td>\n",
       "    </tr>\n",
       "    <tr>\n",
       "      <th>2</th>\n",
       "      <td>4018243377357597</td>\n",
       "      <td>20641</td>\n",
       "      <td>01/09/2018</td>\n",
       "      <td>Entregue</td>\n",
       "      <td>Caio Ferreira Santos</td>\n",
       "      <td>rogeriob</td>\n",
       "    </tr>\n",
       "    <tr>\n",
       "      <th>3</th>\n",
       "      <td>4018243507140908</td>\n",
       "      <td>GSL1138752</td>\n",
       "      <td>01/09/2018</td>\n",
       "      <td>Entregue</td>\n",
       "      <td>tomy</td>\n",
       "      <td>rogeriov</td>\n",
       "    </tr>\n",
       "    <tr>\n",
       "      <th>4</th>\n",
       "      <td>4018243636408427</td>\n",
       "      <td>GSL1138679</td>\n",
       "      <td>31/08/2018</td>\n",
       "      <td>Entregue</td>\n",
       "      <td>Cleber Gonzaga</td>\n",
       "      <td>cleber</td>\n",
       "    </tr>\n",
       "  </tbody>\n",
       "</table>\n",
       "</div>"
      ],
      "text/plain": [
       "      Código Pedido Número Externo Data do evento    Status  \\\n",
       "0  3018243482211537   P20180831T18     03/09/2018  Entregue   \n",
       "1  4018243436281229  V516111MSD-01     31/08/2018  Entregue   \n",
       "2  4018243377357597          20641     01/09/2018  Entregue   \n",
       "3  4018243507140908     GSL1138752     01/09/2018  Entregue   \n",
       "4  4018243636408427     GSL1138679     31/08/2018  Entregue   \n",
       "\n",
       "                       Biker Registrado por  \n",
       "0                   Petronio       petronio  \n",
       "1  Leonardo José de Oliveira      leonardoj  \n",
       "2       Caio Ferreira Santos       rogeriob  \n",
       "3                       tomy       rogeriov  \n",
       "4             Cleber Gonzaga         cleber  "
      ]
     },
     "execution_count": 98,
     "metadata": {},
     "output_type": "execute_result"
    }
   ],
   "source": [
    "pd.read_excel('Biker Tasks.xls',sep=',').head()"
   ]
  },
  {
   "cell_type": "code",
   "execution_count": 99,
   "metadata": {},
   "outputs": [],
   "source": [
    "dados=pd.read_excel('Biker Tasks.xls',sep=',')"
   ]
  },
  {
   "cell_type": "code",
   "execution_count": 100,
   "metadata": {},
   "outputs": [],
   "source": [
    "dados.Biker = dados.Biker.astype('category')"
   ]
  },
  {
   "cell_type": "code",
   "execution_count": 101,
   "metadata": {},
   "outputs": [],
   "source": [
    "i=0\n",
    "nout=[]\n",
    "codp=[]\n",
    "codr=[]\n",
    "while i<dados.Biker.count():\n",
    "    a=dados['Data do evento'][i].split('/')\n",
    "    b=dados['Código Pedido'][i]\n",
    "    if b in codp:\n",
    "        codr.append(i)\n",
    "    else:\n",
    "        codp.append(b)\n",
    "    if a[1]!='08':\n",
    "        nout.append(i)\n",
    "    i=i+1"
   ]
  },
  {
   "cell_type": "code",
   "execution_count": 102,
   "metadata": {},
   "outputs": [
    {
     "data": {
      "text/plain": [
       "551"
      ]
     },
     "execution_count": 102,
     "metadata": {},
     "output_type": "execute_result"
    }
   ],
   "source": [
    "len(codr)"
   ]
  },
  {
   "cell_type": "code",
   "execution_count": 103,
   "metadata": {},
   "outputs": [],
   "source": [
    "newdados=dados.drop(nout)"
   ]
  },
  {
   "cell_type": "code",
   "execution_count": 104,
   "metadata": {},
   "outputs": [
    {
     "data": {
      "text/plain": [
       "count                6779\n",
       "unique                 77\n",
       "top       Andrey Monteiro\n",
       "freq                 1592\n",
       "Name: Biker, dtype: object"
      ]
     },
     "execution_count": 104,
     "metadata": {},
     "output_type": "execute_result"
    }
   ],
   "source": [
    "newdados.Biker.describe()"
   ]
  },
  {
   "cell_type": "markdown",
   "metadata": {},
   "source": [
    "Coletando os biker que entregaram"
   ]
  },
  {
   "cell_type": "code",
   "execution_count": 105,
   "metadata": {},
   "outputs": [],
   "source": [
    "dados2=newdados[(newdados.Status=='Entregue')]"
   ]
  },
  {
   "cell_type": "code",
   "execution_count": 106,
   "metadata": {},
   "outputs": [],
   "source": [
    "ent=newdados.Biker.value_counts().sort_index()"
   ]
  },
  {
   "cell_type": "code",
   "execution_count": 107,
   "metadata": {},
   "outputs": [
    {
     "name": "stderr",
     "output_type": "stream",
     "text": [
      "C:\\Users\\carlo\\Anaconda3\\lib\\site-packages\\pandas\\core\\generic.py:4401: SettingWithCopyWarning: \n",
      "A value is trying to be set on a copy of a slice from a DataFrame.\n",
      "Try using .loc[row_indexer,col_indexer] = value instead\n",
      "\n",
      "See the caveats in the documentation: http://pandas.pydata.org/pandas-docs/stable/indexing.html#indexing-view-versus-copy\n",
      "  self[name] = value\n"
     ]
    }
   ],
   "source": [
    "dados2.Biker = dados2.Biker.astype('category')"
   ]
  },
  {
   "cell_type": "code",
   "execution_count": 108,
   "metadata": {},
   "outputs": [
    {
     "data": {
      "text/plain": [
       "Alex Sandro Ribeiro dos Santos    67\n",
       "Alexandre Arnaldo Aguiar          39\n",
       "Anderson Ferreira                 92\n",
       "Anderson da Silva V                2\n",
       "Andre Biselli                     12\n",
       "Name: Biker, dtype: int64"
      ]
     },
     "execution_count": 108,
     "metadata": {},
     "output_type": "execute_result"
    }
   ],
   "source": [
    "dados2.Biker.value_counts().sort_index().head()"
   ]
  },
  {
   "cell_type": "code",
   "execution_count": 109,
   "metadata": {},
   "outputs": [
    {
     "data": {
      "text/plain": [
       "Alex Sandro Ribeiro dos Santos     69\n",
       "Alexandre Arnaldo Aguiar           40\n",
       "Anderson Ferreira                 100\n",
       "Anderson da Silva V                 2\n",
       "Andre Biselli                      48\n",
       "Name: Biker, dtype: int64"
      ]
     },
     "execution_count": 109,
     "metadata": {},
     "output_type": "execute_result"
    }
   ],
   "source": [
    "ent.head()"
   ]
  },
  {
   "cell_type": "code",
   "execution_count": 110,
   "metadata": {},
   "outputs": [
    {
     "data": {
      "text/plain": [
       "0.9131140286177902"
      ]
     },
     "execution_count": 110,
     "metadata": {},
     "output_type": "execute_result"
    }
   ],
   "source": [
    "dados2.Biker.value_counts().sort_index().sum()/ent.sum()"
   ]
  },
  {
   "cell_type": "code",
   "execution_count": 111,
   "metadata": {},
   "outputs": [
    {
     "data": {
      "text/plain": [
       "6779"
      ]
     },
     "execution_count": 111,
     "metadata": {},
     "output_type": "execute_result"
    }
   ],
   "source": [
    "ent.sum()"
   ]
  },
  {
   "cell_type": "code",
   "execution_count": 112,
   "metadata": {},
   "outputs": [
    {
     "name": "stdout",
     "output_type": "stream",
     "text": [
      "Alex Sandro Ribeiro dos Santos          69\n",
      "Alexandre Arnaldo Aguiar                40\n",
      "Anderson Ferreira                      100\n",
      "Anderson da Silva V                      2\n",
      "Andre Biselli                           48\n",
      "Andre Felipe                            44\n",
      "Andrey Monteiro                       1592\n",
      "B1                                       6\n",
      "B2                                      37\n",
      "Baltazar Gomes Ruiz Junior             209\n",
      "Biker 01                                15\n",
      "BikerRESERVA                            21\n",
      "Bruno Castro                             1\n",
      "Bruno Strano                            91\n",
      "Caio Ferreira Santos                    58\n",
      "Caio Vinicius Pereira                    4\n",
      "Carlos Pingo                             3\n",
      "Claudio Alves Pinheiro                  17\n",
      "Clayton Leoncio dos Santos             144\n",
      "Cleber Gonzaga                          99\n",
      "Daniel Hisatugu                         89\n",
      "Daniel Zacharias                        51\n",
      "Danilo Mendes TI                         1\n",
      "David Felipe de Sousa                   43\n",
      "Diego Bortot                            26\n",
      "Diego Moreira                            7\n",
      "Diego Pereira da Silva de Jesus         68\n",
      "Douglas Santos                          98\n",
      "Edigar Alcantara                         4\n",
      "Edson Brito de Almeida                  54\n",
      "                                      ... \n",
      "Luiz Carlos                             99\n",
      "Luiz Paulo                              48\n",
      "Matheus Messora                         15\n",
      "Michel Santos da Silva                 249\n",
      "Mário Ramos de Oliveira                 45\n",
      "Natan Marques Corner                   174\n",
      "Pedro Lucas de Oliveira                 13\n",
      "Pedro Sabino                            27\n",
      "Petronio                               340\n",
      "Rafael Massucci                          5\n",
      "Rafael Rodrigo                          14\n",
      "Rafael Rodrigues dos Santos              0\n",
      "Raphael Brabo                          166\n",
      "Raul                                   271\n",
      "Rebecca                                  4\n",
      "Reinaldo Nascimento Firmino Junior      53\n",
      "Renato Grossi                           32\n",
      "Ricardo Fernandes                        8\n",
      "Rodrigo dos Santos Calazans             14\n",
      "Rogerio Dias                           275\n",
      "Sergio Gabriel Real                     56\n",
      "Thiago Fernandes  Pereira               18\n",
      "Victor Castello Branco                  52\n",
      "Wefferson Gabriel                       30\n",
      "William Simões                          53\n",
      "Yan Martins                             68\n",
      "jacqueline                              55\n",
      "julio                                   58\n",
      "manoel                                 155\n",
      "tomy                                   126\n",
      "Name: Biker, Length: 80, dtype: int64\n"
     ]
    }
   ],
   "source": [
    "print(ent)"
   ]
  },
  {
   "cell_type": "code",
   "execution_count": null,
   "metadata": {},
   "outputs": [],
   "source": []
  }
 ],
 "metadata": {
  "kernelspec": {
   "display_name": "Python 3",
   "language": "python",
   "name": "python3"
  },
  "language_info": {
   "codemirror_mode": {
    "name": "ipython",
    "version": 3
   },
   "file_extension": ".py",
   "mimetype": "text/x-python",
   "name": "python",
   "nbconvert_exporter": "python",
   "pygments_lexer": "ipython3",
   "version": "3.6.5"
  }
 },
 "nbformat": 4,
 "nbformat_minor": 2
}
