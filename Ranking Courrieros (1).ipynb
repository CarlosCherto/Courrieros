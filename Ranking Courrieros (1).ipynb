{
 "cells": [
  {
   "cell_type": "markdown",
   "metadata": {},
   "source": [
    "\n",
    "# Ranking Courrieros"
   ]
  },
  {
   "cell_type": "markdown",
   "metadata": {},
   "source": [
    "Importando a base de dados"
   ]
  },
  {
   "cell_type": "code",
   "execution_count": 2,
   "metadata": {},
   "outputs": [],
   "source": [
    "import pandas as pd\n",
    "import matplotlib.pyplot as plt\n",
    "import numpy as np"
   ]
  },
  {
   "cell_type": "code",
   "execution_count": 3,
   "metadata": {},
   "outputs": [
    {
     "data": {
      "text/html": [
       "<div>\n",
       "<style scoped>\n",
       "    .dataframe tbody tr th:only-of-type {\n",
       "        vertical-align: middle;\n",
       "    }\n",
       "\n",
       "    .dataframe tbody tr th {\n",
       "        vertical-align: top;\n",
       "    }\n",
       "\n",
       "    .dataframe thead th {\n",
       "        text-align: right;\n",
       "    }\n",
       "</style>\n",
       "<table border=\"1\" class=\"dataframe\">\n",
       "  <thead>\n",
       "    <tr style=\"text-align: right;\">\n",
       "      <th></th>\n",
       "      <th>Código Pedido</th>\n",
       "      <th>Número Externo</th>\n",
       "      <th>Data do evento</th>\n",
       "      <th>Status</th>\n",
       "      <th>Biker</th>\n",
       "      <th>Registrado por</th>\n",
       "    </tr>\n",
       "  </thead>\n",
       "  <tbody>\n",
       "    <tr>\n",
       "      <th>0</th>\n",
       "      <td>3018243482211537</td>\n",
       "      <td>P20180831T18</td>\n",
       "      <td>03/09/2018</td>\n",
       "      <td>Entregue</td>\n",
       "      <td>Petronio</td>\n",
       "      <td>petronio</td>\n",
       "    </tr>\n",
       "    <tr>\n",
       "      <th>1</th>\n",
       "      <td>4018243436281229</td>\n",
       "      <td>V516111MSD-01</td>\n",
       "      <td>31/08/2018</td>\n",
       "      <td>Entregue</td>\n",
       "      <td>Leonardo José de Oliveira</td>\n",
       "      <td>leonardoj</td>\n",
       "    </tr>\n",
       "    <tr>\n",
       "      <th>2</th>\n",
       "      <td>4018243377357597</td>\n",
       "      <td>20641</td>\n",
       "      <td>01/09/2018</td>\n",
       "      <td>Entregue</td>\n",
       "      <td>Caio Ferreira Santos</td>\n",
       "      <td>rogeriob</td>\n",
       "    </tr>\n",
       "    <tr>\n",
       "      <th>3</th>\n",
       "      <td>4018243507140908</td>\n",
       "      <td>GSL1138752</td>\n",
       "      <td>01/09/2018</td>\n",
       "      <td>Entregue</td>\n",
       "      <td>tomy</td>\n",
       "      <td>rogeriov</td>\n",
       "    </tr>\n",
       "    <tr>\n",
       "      <th>4</th>\n",
       "      <td>4018243636408427</td>\n",
       "      <td>GSL1138679</td>\n",
       "      <td>31/08/2018</td>\n",
       "      <td>Entregue</td>\n",
       "      <td>Cleber Gonzaga</td>\n",
       "      <td>cleber</td>\n",
       "    </tr>\n",
       "  </tbody>\n",
       "</table>\n",
       "</div>"
      ],
      "text/plain": [
       "      Código Pedido Número Externo Data do evento    Status  \\\n",
       "0  3018243482211537   P20180831T18     03/09/2018  Entregue   \n",
       "1  4018243436281229  V516111MSD-01     31/08/2018  Entregue   \n",
       "2  4018243377357597          20641     01/09/2018  Entregue   \n",
       "3  4018243507140908     GSL1138752     01/09/2018  Entregue   \n",
       "4  4018243636408427     GSL1138679     31/08/2018  Entregue   \n",
       "\n",
       "                       Biker Registrado por  \n",
       "0                   Petronio       petronio  \n",
       "1  Leonardo José de Oliveira      leonardoj  \n",
       "2       Caio Ferreira Santos       rogeriob  \n",
       "3                       tomy       rogeriov  \n",
       "4             Cleber Gonzaga         cleber  "
      ]
     },
     "execution_count": 3,
     "metadata": {},
     "output_type": "execute_result"
    }
   ],
   "source": [
    "pd.read_excel('Biker Tasks.xls',sep=',').head()"
   ]
  },
  {
   "cell_type": "code",
   "execution_count": 4,
   "metadata": {},
   "outputs": [],
   "source": [
    "chuva=[0,1,0,1,0,1,1,0,1,0,0,0,0,0,0,0,0,0,0,0,0,0,0,0,1,0,0,0,0,0,0]"
   ]
  },
  {
   "cell_type": "markdown",
   "metadata": {},
   "source": [
    "http://www.inmet.gov.br/sim/abre_graficos.php"
   ]
  },
  {
   "cell_type": "code",
   "execution_count": 5,
   "metadata": {},
   "outputs": [],
   "source": [
    "dados=pd.read_excel('Biker Tasks.xls',sep=',')"
   ]
  },
  {
   "cell_type": "code",
   "execution_count": 6,
   "metadata": {},
   "outputs": [],
   "source": [
    "dados.Biker = dados.Biker.astype('category')\n",
    "dados['Data do evento'] = dados['Data do evento'].astype('category')"
   ]
  },
  {
   "cell_type": "code",
   "execution_count": 7,
   "metadata": {},
   "outputs": [],
   "source": [
    "i=0\n",
    "noutubro=[]\n",
    "codprod=[]\n",
    "codrep=[]\n",
    "andrey=[]\n",
    "while i<dados.Biker.count():\n",
    "    a=dados['Data do evento'][i].split('/')\n",
    "    b=dados['Código Pedido'][i]\n",
    "    c=dados.Biker[i]\n",
    "    if b in codprod:\n",
    "        codrep.append(i)\n",
    "    else:\n",
    "        codprod.append(b)\n",
    "    if a[1]!='08':\n",
    "        noutubro.append(i)\n",
    "    if c == 'Andrey Monteiro':\n",
    "        andrey.append(i)\n",
    "    i=i+1"
   ]
  },
  {
   "cell_type": "code",
   "execution_count": 8,
   "metadata": {},
   "outputs": [],
   "source": [
    "uniao=list(set().union(noutubro,codrep,andrey))"
   ]
  },
  {
   "cell_type": "code",
   "execution_count": 9,
   "metadata": {},
   "outputs": [],
   "source": [
    "newdados=dados.drop(uniao)"
   ]
  },
  {
   "cell_type": "code",
   "execution_count": 10,
   "metadata": {},
   "outputs": [
    {
     "data": {
      "text/plain": [
       "4745"
      ]
     },
     "execution_count": 10,
     "metadata": {},
     "output_type": "execute_result"
    }
   ],
   "source": [
    "len(newdados)"
   ]
  },
  {
   "cell_type": "code",
   "execution_count": 11,
   "metadata": {},
   "outputs": [
    {
     "data": {
      "text/html": [
       "<div>\n",
       "<style scoped>\n",
       "    .dataframe tbody tr th:only-of-type {\n",
       "        vertical-align: middle;\n",
       "    }\n",
       "\n",
       "    .dataframe tbody tr th {\n",
       "        vertical-align: top;\n",
       "    }\n",
       "\n",
       "    .dataframe thead th {\n",
       "        text-align: right;\n",
       "    }\n",
       "</style>\n",
       "<table border=\"1\" class=\"dataframe\">\n",
       "  <thead>\n",
       "    <tr style=\"text-align: right;\">\n",
       "      <th></th>\n",
       "      <th>Código Pedido</th>\n",
       "      <th>Número Externo</th>\n",
       "      <th>Data do evento</th>\n",
       "      <th>Status</th>\n",
       "      <th>Biker</th>\n",
       "      <th>Registrado por</th>\n",
       "    </tr>\n",
       "  </thead>\n",
       "  <tbody>\n",
       "    <tr>\n",
       "      <th>1</th>\n",
       "      <td>4018243436281229</td>\n",
       "      <td>V516111MSD-01</td>\n",
       "      <td>31/08/2018</td>\n",
       "      <td>Entregue</td>\n",
       "      <td>Leonardo José de Oliveira</td>\n",
       "      <td>leonardoj</td>\n",
       "    </tr>\n",
       "    <tr>\n",
       "      <th>4</th>\n",
       "      <td>4018243636408427</td>\n",
       "      <td>GSL1138679</td>\n",
       "      <td>31/08/2018</td>\n",
       "      <td>Entregue</td>\n",
       "      <td>Cleber Gonzaga</td>\n",
       "      <td>cleber</td>\n",
       "    </tr>\n",
       "    <tr>\n",
       "      <th>5</th>\n",
       "      <td>4018243729616237</td>\n",
       "      <td>GSL1138737</td>\n",
       "      <td>31/08/2018</td>\n",
       "      <td>Entregue</td>\n",
       "      <td>Luciano Aparecido Rodrigues</td>\n",
       "      <td>lucianoa</td>\n",
       "    </tr>\n",
       "    <tr>\n",
       "      <th>6</th>\n",
       "      <td>4018243250625262</td>\n",
       "      <td>GSL1138777</td>\n",
       "      <td>31/08/2018</td>\n",
       "      <td>Entregue</td>\n",
       "      <td>Luciano Aparecido Rodrigues</td>\n",
       "      <td>lucianoa</td>\n",
       "    </tr>\n",
       "    <tr>\n",
       "      <th>7</th>\n",
       "      <td>4018243192823940</td>\n",
       "      <td>WEB1138724</td>\n",
       "      <td>31/08/2018</td>\n",
       "      <td>Entregue</td>\n",
       "      <td>Luciano Aparecido Rodrigues</td>\n",
       "      <td>lucianoa</td>\n",
       "    </tr>\n",
       "  </tbody>\n",
       "</table>\n",
       "</div>"
      ],
      "text/plain": [
       "      Código Pedido Número Externo Data do evento    Status  \\\n",
       "1  4018243436281229  V516111MSD-01     31/08/2018  Entregue   \n",
       "4  4018243636408427     GSL1138679     31/08/2018  Entregue   \n",
       "5  4018243729616237     GSL1138737     31/08/2018  Entregue   \n",
       "6  4018243250625262     GSL1138777     31/08/2018  Entregue   \n",
       "7  4018243192823940     WEB1138724     31/08/2018  Entregue   \n",
       "\n",
       "                         Biker Registrado por  \n",
       "1    Leonardo José de Oliveira      leonardoj  \n",
       "4               Cleber Gonzaga         cleber  \n",
       "5  Luciano Aparecido Rodrigues       lucianoa  \n",
       "6  Luciano Aparecido Rodrigues       lucianoa  \n",
       "7  Luciano Aparecido Rodrigues       lucianoa  "
      ]
     },
     "execution_count": 11,
     "metadata": {},
     "output_type": "execute_result"
    }
   ],
   "source": [
    "newdados.head()"
   ]
  },
  {
   "cell_type": "markdown",
   "metadata": {},
   "source": [
    "Coletando os biker que entregaram"
   ]
  },
  {
   "cell_type": "code",
   "execution_count": 12,
   "metadata": {},
   "outputs": [],
   "source": [
    "dados2=newdados[(newdados.Status=='Entregue')]"
   ]
  },
  {
   "cell_type": "code",
   "execution_count": 13,
   "metadata": {},
   "outputs": [],
   "source": [
    "ent=newdados.Biker.value_counts().sort_index()\n",
    "datas=dados2['Data do evento']"
   ]
  },
  {
   "cell_type": "code",
   "execution_count": 14,
   "metadata": {},
   "outputs": [
    {
     "data": {
      "text/plain": [
       "01/08/2018    120\n",
       "01/09/2018      0\n",
       "02/08/2018    120\n",
       "03/08/2018    118\n",
       "03/09/2018      0\n",
       "Name: Data do evento, dtype: int64"
      ]
     },
     "execution_count": 14,
     "metadata": {},
     "output_type": "execute_result"
    }
   ],
   "source": [
    "newdatas=datas.value_counts().sort_index()\n",
    "newdatas.head()"
   ]
  },
  {
   "cell_type": "code",
   "execution_count": 15,
   "metadata": {},
   "outputs": [],
   "source": [
    "newdatas2=newdatas[(newdatas != 0)]\n",
    "dados2=newdados[(newdados.Status=='Entregue')]"
   ]
  },
  {
   "cell_type": "code",
   "execution_count": 16,
   "metadata": {},
   "outputs": [
    {
     "data": {
      "text/plain": [
       "[<matplotlib.lines.Line2D at 0x21c53cfe2b0>]"
      ]
     },
     "execution_count": 16,
     "metadata": {},
     "output_type": "execute_result"
    },
    {
     "data": {
      "image/png": "[encoded data removed]",
      "text/plain": [
       "<Figure size 432x288 with 1 Axes>"
      ]
     },
     "metadata": {},
     "output_type": "display_data"
    }
   ],
   "source": [
    "y=list(newdatas2)\n",
    "x=list(range(1,32))\n",
    "plt.plot(x,y,'-')"
   ]
  },
  {
   "cell_type": "code",
   "execution_count": 17,
   "metadata": {},
   "outputs": [
    {
     "name": "stderr",
     "output_type": "stream",
     "text": [
      "C:\\Users\\carlo\\Anaconda3\\lib\\site-packages\\pandas\\core\\generic.py:4401: SettingWithCopyWarning: \n",
      "A value is trying to be set on a copy of a slice from a DataFrame.\n",
      "Try using .loc[row_indexer,col_indexer] = value instead\n",
      "\n",
      "See the caveats in the documentation: http://pandas.pydata.org/pandas-docs/stable/indexing.html#indexing-view-versus-copy\n",
      "  self[name] = value\n"
     ]
    }
   ],
   "source": [
    "dados2.Biker = dados2.Biker.astype('category')"
   ]
  },
  {
   "cell_type": "code",
   "execution_count": 18,
   "metadata": {},
   "outputs": [
    {
     "data": {
      "text/plain": [
       "Alex Sandro Ribeiro dos Santos    61\n",
       "Alexandre Arnaldo Aguiar          37\n",
       "Anderson Ferreira                 83\n",
       "Anderson da Silva V                2\n",
       "Andre Biselli                      7\n",
       "Name: Biker, dtype: int64"
      ]
     },
     "execution_count": 18,
     "metadata": {},
     "output_type": "execute_result"
    }
   ],
   "source": [
    "dados2.Biker.value_counts().sort_index().head()"
   ]
  },
  {
   "cell_type": "code",
   "execution_count": 19,
   "metadata": {},
   "outputs": [
    {
     "data": {
      "text/plain": [
       "Alex Sandro Ribeiro dos Santos    63\n",
       "Alexandre Arnaldo Aguiar          37\n",
       "Anderson Ferreira                 91\n",
       "Anderson da Silva V                2\n",
       "Andre Biselli                     36\n",
       "Name: Biker, dtype: int64"
      ]
     },
     "execution_count": 19,
     "metadata": {},
     "output_type": "execute_result"
    }
   ],
   "source": [
    "ent.head()"
   ]
  },
  {
   "cell_type": "code",
   "execution_count": 20,
   "metadata": {
    "scrolled": true
   },
   "outputs": [
    {
     "data": {
      "text/plain": [
       "<matplotlib.axes._subplots.AxesSubplot at 0x21c53a16048>"
      ]
     },
     "execution_count": 20,
     "metadata": {},
     "output_type": "execute_result"
    },
    {
     "data": {
      "image/png": "[encoded data removed]",
      "text/plain": [
       "<Figure size 432x288 with 1 Axes>"
      ]
     },
     "metadata": {},
     "output_type": "display_data"
    }
   ],
   "source": [
    "ent.plot()"
   ]
  },
  {
   "cell_type": "code",
   "execution_count": 31,
   "metadata": {},
   "outputs": [
    {
     "data": {
      "text/plain": [
       "[1.8181818181818183,\n",
       " 1.4805194805194806,\n",
       " 2.1818181818181817,\n",
       " 1.025974025974026,\n",
       " 1.4675324675324675,\n",
       " 1.5584415584415585,\n",
       " 1.0,\n",
       " 1.0649350649350648,\n",
       " 1.4545454545454546,\n",
       " 3.2857142857142856,\n",
       " 1.1818181818181819,\n",
       " 1.2727272727272727,\n",
       " 1.0,\n",
       " 2.103896103896104,\n",
       " 1.6883116883116882,\n",
       " 1.051948051948052,\n",
       " 1.025974025974026,\n",
       " 1.2207792207792207,\n",
       " 2.7532467532467533,\n",
       " 2.207792207792208,\n",
       " 2.103896103896104,\n",
       " 1.6363636363636362,\n",
       " 1.0129870129870129,\n",
       " 1.5324675324675323,\n",
       " 1.3376623376623376,\n",
       " 1.0909090909090908,\n",
       " 1.8311688311688312,\n",
       " 2.2467532467532467,\n",
       " 1.0389610389610389,\n",
       " 1.6103896103896105,\n",
       " 1.2597402597402598,\n",
       " 3.168831168831169,\n",
       " 1.0,\n",
       " 1.4935064935064934,\n",
       " 1.0909090909090908,\n",
       " 1.2077922077922079,\n",
       " 2.103896103896104,\n",
       " 1.4285714285714286,\n",
       " 1.0129870129870129,\n",
       " 1.1428571428571428,\n",
       " 1.4935064935064934,\n",
       " 2.9350649350649354,\n",
       " 3.051948051948052,\n",
       " 1.2857142857142856,\n",
       " 1.5194805194805194,\n",
       " 1.0,\n",
       " 1.025974025974026,\n",
       " 2.0649350649350646,\n",
       " 1.922077922077922,\n",
       " 3.3506493506493507,\n",
       " 2.233766233766234,\n",
       " 1.5714285714285714,\n",
       " 1.12987012987013,\n",
       " 4.025974025974026,\n",
       " 1.5844155844155843,\n",
       " 3.103896103896104,\n",
       " 1.1688311688311688,\n",
       " 1.2337662337662338,\n",
       " 5.0,\n",
       " 1.0649350649350648,\n",
       " 1.1818181818181819,\n",
       " 1.0,\n",
       " 3.116883116883117,\n",
       " 4.415584415584416,\n",
       " 1.0389610389610389,\n",
       " 1.6883116883116882,\n",
       " 1.3506493506493507,\n",
       " 1.0909090909090908,\n",
       " 1.1688311688311688,\n",
       " 3.8051948051948052,\n",
       " 1.6753246753246753,\n",
       " 1.1688311688311688,\n",
       " 1.4935064935064934,\n",
       " 1.3896103896103895,\n",
       " 1.6883116883116882,\n",
       " 1.8311688311688312,\n",
       " 1.6363636363636362,\n",
       " 1.5974025974025974,\n",
       " 2.8311688311688314,\n",
       " 2.4935064935064934]"
      ]
     },
     "execution_count": 31,
     "metadata": {},
     "output_type": "execute_result"
    }
   ],
   "source": [
    "A=min(ent)\n",
    "B=max(ent)\n",
    "notas=[]\n",
    "i=0\n",
    "while i<len(ent):\n",
    "    notas.append(1+(ent[i]-A)*4/(B-A))\n",
    "    i=i+1\n",
    "notas"
   ]
  },
  {
   "cell_type": "code",
   "execution_count": null,
   "metadata": {},
   "outputs": [],
   "source": [
    "#for n in range(0,len(notas)):\n",
    " #   dados2.Biker[n]\n",
    "  #  notas[n]\n",
    "   # dados.loc[, 'Entregas']= 1\n",
    "   # dados.loc[dados.Status=='Não Entregue', 'Entregas']= 0\n",
    "    #dados.head()"
   ]
  },
  {
   "cell_type": "code",
   "execution_count": 22,
   "metadata": {},
   "outputs": [
    {
     "data": {
      "text/plain": [
       "Alex Sandro Ribeiro dos Santos         63\n",
       "Alexandre Arnaldo Aguiar               37\n",
       "Anderson Ferreira                      91\n",
       "Anderson da Silva V                     2\n",
       "Andre Biselli                          36\n",
       "Andre Felipe                           43\n",
       "Andrey Monteiro                         0\n",
       "B1                                      5\n",
       "B2                                     35\n",
       "Baltazar Gomes Ruiz Junior            176\n",
       "Biker 01                               14\n",
       "BikerRESERVA                           21\n",
       "Bruno Castro                            0\n",
       "Bruno Strano                           85\n",
       "Caio Ferreira Santos                   53\n",
       "Caio Vinicius Pereira                   4\n",
       "Carlos Pingo                            2\n",
       "Claudio Alves Pinheiro                 17\n",
       "Clayton Leoncio dos Santos            135\n",
       "Cleber Gonzaga                         93\n",
       "Daniel Hisatugu                        85\n",
       "Daniel Zacharias                       49\n",
       "Danilo Mendes TI                        1\n",
       "David Felipe de Sousa                  41\n",
       "Diego Bortot                           26\n",
       "Diego Moreira                           7\n",
       "Diego Pereira da Silva de Jesus        64\n",
       "Douglas Santos                         96\n",
       "Edigar Alcantara                        3\n",
       "Edson Brito de Almeida                 47\n",
       "                                     ... \n",
       "Luiz Carlos                            95\n",
       "Luiz Paulo                             44\n",
       "Matheus Messora                        10\n",
       "Michel Santos da Silva                233\n",
       "Mário Ramos de Oliveira                45\n",
       "Natan Marques Corner                  162\n",
       "Pedro Lucas de Oliveira                13\n",
       "Pedro Sabino                           18\n",
       "Petronio                              308\n",
       "Rafael Massucci                         5\n",
       "Rafael Rodrigo                         14\n",
       "Rafael Rodrigues dos Santos             0\n",
       "Raphael Brabo                         163\n",
       "Raul                                  263\n",
       "Rebecca                                 3\n",
       "Reinaldo Nascimento Firmino Junior     53\n",
       "Renato Grossi                          27\n",
       "Ricardo Fernandes                       7\n",
       "Rodrigo dos Santos Calazans            13\n",
       "Rogerio Dias                          216\n",
       "Sergio Gabriel Real                    52\n",
       "Thiago Fernandes  Pereira              13\n",
       "Victor Castello Branco                 38\n",
       "Wefferson Gabriel                      30\n",
       "William Simões                         53\n",
       "Yan Martins                            64\n",
       "jacqueline                             49\n",
       "julio                                  46\n",
       "manoel                                141\n",
       "tomy                                  115\n",
       "Name: Biker, Length: 80, dtype: int64"
      ]
     },
     "execution_count": 22,
     "metadata": {},
     "output_type": "execute_result"
    }
   ],
   "source": [
    "ent"
   ]
  },
  {
   "cell_type": "code",
   "execution_count": 23,
   "metadata": {},
   "outputs": [
    {
     "data": {
      "text/plain": [
       "63"
      ]
     },
     "execution_count": 23,
     "metadata": {},
     "output_type": "execute_result"
    }
   ],
   "source": [
    "ent[0]"
   ]
  },
  {
   "cell_type": "code",
   "execution_count": 24,
   "metadata": {},
   "outputs": [
    {
     "data": {
      "text/plain": [
       "80"
      ]
     },
     "execution_count": 24,
     "metadata": {},
     "output_type": "execute_result"
    }
   ],
   "source": [
    "len(ent)"
   ]
  },
  {
   "cell_type": "code",
   "execution_count": 25,
   "metadata": {},
   "outputs": [
    {
     "data": {
      "text/plain": [
       "80"
      ]
     },
     "execution_count": 25,
     "metadata": {},
     "output_type": "execute_result"
    }
   ],
   "source": [
    "len(notas)"
   ]
  }
 ],
 "metadata": {
  "kernelspec": {
   "display_name": "Python 3",
   "language": "python",
   "name": "python3"
  },
  "language_info": {
   "codemirror_mode": {
    "name": "ipython",
    "version": 3
   },
   "file_extension": ".py",
   "mimetype": "text/x-python",
   "name": "python",
   "nbconvert_exporter": "python",
   "pygments_lexer": "ipython3",
   "version": "3.6.5"
  }
 },
 "nbformat": 4,
 "nbformat_minor": 2
}
